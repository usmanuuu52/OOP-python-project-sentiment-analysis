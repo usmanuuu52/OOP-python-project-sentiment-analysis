{
  "nbformat": 4,
  "nbformat_minor": 0,
  "metadata": {
    "colab": {
      "provenance": []
    },
    "kernelspec": {
      "name": "python3",
      "display_name": "Python 3"
    },
    "language_info": {
      "name": "python"
    }
  },
  "cells": [
    {
      "cell_type": "markdown",
      "source": [
        "# This project is based on Sentiment Analysis using Python OOP and NLPCLOUD Api\n",
        "\n",
        "## Done by: Usman Nasir(Data scientist,Ml Engineer)\n",
        "\n",
        "### Email: usmankhanuuu52@gmail.com\n"
      ],
      "metadata": {
        "id": "Zs1Fv2xtYKiF"
      }
    },
    {
      "cell_type": "code",
      "execution_count": 1,
      "metadata": {
        "colab": {
          "base_uri": "https://localhost:8080/"
        },
        "id": "dc6ka7vw3aoL",
        "outputId": "e0921892-2048-4a42-a43a-a440e4c45cfe"
      },
      "outputs": [
        {
          "output_type": "stream",
          "name": "stdout",
          "text": [
            "Looking in indexes: https://pypi.org/simple, https://us-python.pkg.dev/colab-wheels/public/simple/\n",
            "Collecting nlpcloud\n",
            "  Downloading nlpcloud-1.0.38-py3-none-any.whl (4.5 kB)\n",
            "Requirement already satisfied: requests in /usr/local/lib/python3.8/dist-packages (from nlpcloud) (2.23.0)\n",
            "Requirement already satisfied: certifi>=2017.4.17 in /usr/local/lib/python3.8/dist-packages (from requests->nlpcloud) (2022.12.7)\n",
            "Requirement already satisfied: idna<3,>=2.5 in /usr/local/lib/python3.8/dist-packages (from requests->nlpcloud) (2.10)\n",
            "Requirement already satisfied: chardet<4,>=3.0.2 in /usr/local/lib/python3.8/dist-packages (from requests->nlpcloud) (3.0.4)\n",
            "Requirement already satisfied: urllib3!=1.25.0,!=1.25.1,<1.26,>=1.21.1 in /usr/local/lib/python3.8/dist-packages (from requests->nlpcloud) (1.24.3)\n",
            "Installing collected packages: nlpcloud\n",
            "Successfully installed nlpcloud-1.0.38\n"
          ]
        }
      ],
      "source": [
        "#installing nlpcloud Api\n",
        "!pip install nlpcloud"
      ]
    },
    {
      "cell_type": "markdown",
      "source": [
        "# Main Program"
      ],
      "metadata": {
        "id": "wdzzcNrFV609"
      }
    },
    {
      "cell_type": "code",
      "source": [
        "import nlpcloud\n",
        "\n",
        "class SentimentAnalysis:\n",
        "\n",
        "  def __init__(self):\n",
        "    self.__disti={}\n",
        "    self.__menu()\n",
        "\n",
        "  def __menu(self):\n",
        "    first_input=input(\"\"\"\n",
        "    Hey! Welcome To Python Sentiment Analysis.\n",
        "    Please follow the guidlines below:\n",
        "    Step1:Register your self\n",
        "    Step2:Login\n",
        "    Step3:Use our Services\n",
        "    *_*_*_*-*_*_*_*_*_*_*_*_*_*_*_*_*_*_*_*_*_*_*_*_*_*__*_*_*_*_*_*_*_*_*_*_\n",
        "    How can we help you?\n",
        "    Please Select from below:\n",
        "    1- Press 1 To Register\n",
        "    2- Press 2 to login\n",
        "    3- Our Services\n",
        "    4- Logout \n",
        "    \"\"\")\n",
        "    if first_input=='1':\n",
        "      self.__register() \n",
        "\n",
        "    elif first_input=='2':\n",
        "      self.__login() \n",
        "\n",
        "    elif first_input=='3':\n",
        "      email=input('Please enter your email again:')\n",
        "      if email in self.__disti:\n",
        "        self.__sentiment_analysis()\n",
        "    \n",
        "\n",
        "      else:\n",
        "        print('Please register your self first of all')\n",
        "        print('Sorry for the inconvience!')\n",
        "      self.__register()\n",
        "      \n",
        "    else:\n",
        "      exit()\n",
        "   \n",
        "\n",
        "  def __second_menu(self):\n",
        "    second_input=input(\"\"\"\n",
        "    Hey Welcome back:\n",
        "    Please select from below services-->\n",
        "    1:Press 1 to do Sentiment Analysis\n",
        "    2:Press 0 to exit the program\n",
        "     \"\"\")\n",
        "    if second_input=='1':\n",
        "      self.__sentiment_analysis()\n",
        "    else:\n",
        "      exit()\n",
        "\n",
        "\n",
        "  def __register(self):\n",
        "    name=input('Please enter your name: ')\n",
        "    email=input('Please enter your email: ')\n",
        "    password=input('Please enter your password: ')\n",
        "   \n",
        "    if email in self.__disti:\n",
        "      print('Already registered! ')\n",
        "      self.__menu()\n",
        "\n",
        "    else:\n",
        "      self.__disti[email]=[name,password]\n",
        "      print('Registered successfully')\n",
        "      print(self.__disti)\n",
        "      \n",
        "      self.__menu()\n",
        "\n",
        "\n",
        "  def __login(self):\n",
        "    email=input('please enter your email: ')\n",
        "    password=input('please enter your password: ')\n",
        "    if email in self.__disti:\n",
        "      if self.__disti[email][1]==password:\n",
        "        print('Login Successfully')\n",
        "      self.__second_menu()\n",
        "    else:\n",
        "      print('Please register yourself frist. Thanks!')\n",
        "      self.__menu()\n",
        "\n",
        "\n",
        "  def __sentiment_analysis(self):\n",
        "\n",
        "    para = input('enter the paragraph:')\n",
        "\n",
        "    client = nlpcloud.Client(\"distilbert-base-uncased-emotion\", '1f0ec36e275ddae7794c925cc225bb902184fdfb', gpu=False, lang=\"en\")\n",
        "    response = client.sentiment(para)\n",
        "    l=[]\n",
        "    for i in response['scored_labels']:\n",
        "      l.append(i['score'])\n",
        "    indi=sorted(list(enumerate(l)),key=lambda x:x[1],reverse=True)[0][0]\n",
        "\n",
        "    print('The Sentiment with highest score is:','>*-<',response['scored_labels'][indi]['label'],'<*->','With score of:',round(response['scored_labels'][indi]['score'],4))\n",
        "    self.__second_menu()\n",
        "\n",
        "\n",
        "obj1=SentimentAnalysis()"
      ],
      "metadata": {
        "colab": {
          "base_uri": "https://localhost:8080/",
          "height": 1000
        },
        "id": "CdHHJB05V4_S",
        "outputId": "85c197a7-ca46-4f31-878c-922740a07017"
      },
      "execution_count": 6,
      "outputs": [
        {
          "output_type": "stream",
          "name": "stdout",
          "text": [
            "\n",
            "    Hey! Welcome To Python Sentiment Analysis.\n",
            "    Please follow the guidlines below:\n",
            "    Step1:Register your self\n",
            "    Step2:Login\n",
            "    Step3:Use our Services\n",
            "    *_*_*_*-*_*_*_*_*_*_*_*_*_*_*_*_*_*_*_*_*_*_*_*_*_*__*_*_*_*_*_*_*_*_*_*_\n",
            "    How can we help you?\n",
            "    Please Select from below:\n",
            "    1- Press 1 To Register\n",
            "    2- Press 2 to login\n",
            "    3- Our Services\n",
            "    4- Logout \n",
            "    3\n",
            "Please enter your email again:usman\n",
            "Please register your self first of all\n",
            "Sorry for the inconvience!\n",
            "Please enter your name: usman\n",
            "Please enter your email: usman\n",
            "Please enter your password: usman\n",
            "Registered successfully\n",
            "{'usman': ['usman', 'usman']}\n",
            "\n",
            "    Hey! Welcome To Python Sentiment Analysis.\n",
            "    Please follow the guidlines below:\n",
            "    Step1:Register your self\n",
            "    Step2:Login\n",
            "    Step3:Use our Services\n",
            "    *_*_*_*-*_*_*_*_*_*_*_*_*_*_*_*_*_*_*_*_*_*_*_*_*_*__*_*_*_*_*_*_*_*_*_*_\n",
            "    How can we help you?\n",
            "    Please Select from below:\n",
            "    1- Press 1 To Register\n",
            "    2- Press 2 to login\n",
            "    3- Our Services\n",
            "    4- Logout \n",
            "    3\n",
            "Please enter your email again:usman\n",
            "enter the paragraph:i love safia\n",
            "The Sentiment with highest score is: >*-< love <*-> With score of: 0.9558\n"
          ]
        },
        {
          "output_type": "error",
          "ename": "KeyboardInterrupt",
          "evalue": "ignored",
          "traceback": [
            "\u001b[0;31m---------------------------------------------------------------------------\u001b[0m",
            "\u001b[0;31mKeyboardInterrupt\u001b[0m                         Traceback (most recent call last)",
            "\u001b[0;32m<ipython-input-6-9cbdabb44ecb>\u001b[0m in \u001b[0;36m<module>\u001b[0;34m\u001b[0m\n\u001b[1;32m    100\u001b[0m \u001b[0;34m\u001b[0m\u001b[0m\n\u001b[1;32m    101\u001b[0m \u001b[0;34m\u001b[0m\u001b[0m\n\u001b[0;32m--> 102\u001b[0;31m \u001b[0mobj1\u001b[0m\u001b[0;34m=\u001b[0m\u001b[0mSentimentAnalysis\u001b[0m\u001b[0;34m(\u001b[0m\u001b[0;34m)\u001b[0m\u001b[0;34m\u001b[0m\u001b[0;34m\u001b[0m\u001b[0m\n\u001b[0m",
            "\u001b[0;32m<ipython-input-6-9cbdabb44ecb>\u001b[0m in \u001b[0;36m__init__\u001b[0;34m(self)\u001b[0m\n\u001b[1;32m      5\u001b[0m   \u001b[0;32mdef\u001b[0m \u001b[0m__init__\u001b[0m\u001b[0;34m(\u001b[0m\u001b[0mself\u001b[0m\u001b[0;34m)\u001b[0m\u001b[0;34m:\u001b[0m\u001b[0;34m\u001b[0m\u001b[0;34m\u001b[0m\u001b[0m\n\u001b[1;32m      6\u001b[0m     \u001b[0mself\u001b[0m\u001b[0;34m.\u001b[0m\u001b[0m__disti\u001b[0m\u001b[0;34m=\u001b[0m\u001b[0;34m{\u001b[0m\u001b[0;34m}\u001b[0m\u001b[0;34m\u001b[0m\u001b[0;34m\u001b[0m\u001b[0m\n\u001b[0;32m----> 7\u001b[0;31m     \u001b[0mself\u001b[0m\u001b[0;34m.\u001b[0m\u001b[0m__menu\u001b[0m\u001b[0;34m(\u001b[0m\u001b[0;34m)\u001b[0m\u001b[0;34m\u001b[0m\u001b[0;34m\u001b[0m\u001b[0m\n\u001b[0m\u001b[1;32m      8\u001b[0m \u001b[0;34m\u001b[0m\u001b[0m\n\u001b[1;32m      9\u001b[0m   \u001b[0;32mdef\u001b[0m \u001b[0m__menu\u001b[0m\u001b[0;34m(\u001b[0m\u001b[0mself\u001b[0m\u001b[0;34m)\u001b[0m\u001b[0;34m:\u001b[0m\u001b[0;34m\u001b[0m\u001b[0;34m\u001b[0m\u001b[0m\n",
            "\u001b[0;32m<ipython-input-6-9cbdabb44ecb>\u001b[0m in \u001b[0;36m__menu\u001b[0;34m(self)\u001b[0m\n\u001b[1;32m     37\u001b[0m         \u001b[0mprint\u001b[0m\u001b[0;34m(\u001b[0m\u001b[0;34m'Please register your self first of all'\u001b[0m\u001b[0;34m)\u001b[0m\u001b[0;34m\u001b[0m\u001b[0;34m\u001b[0m\u001b[0m\n\u001b[1;32m     38\u001b[0m         \u001b[0mprint\u001b[0m\u001b[0;34m(\u001b[0m\u001b[0;34m'Sorry for the inconvience!'\u001b[0m\u001b[0;34m)\u001b[0m\u001b[0;34m\u001b[0m\u001b[0;34m\u001b[0m\u001b[0m\n\u001b[0;32m---> 39\u001b[0;31m       \u001b[0mself\u001b[0m\u001b[0;34m.\u001b[0m\u001b[0m__register\u001b[0m\u001b[0;34m(\u001b[0m\u001b[0;34m)\u001b[0m\u001b[0;34m\u001b[0m\u001b[0;34m\u001b[0m\u001b[0m\n\u001b[0m\u001b[1;32m     40\u001b[0m \u001b[0;34m\u001b[0m\u001b[0m\n\u001b[1;32m     41\u001b[0m     \u001b[0;32melse\u001b[0m\u001b[0;34m:\u001b[0m\u001b[0;34m\u001b[0m\u001b[0;34m\u001b[0m\u001b[0m\n",
            "\u001b[0;32m<ipython-input-6-9cbdabb44ecb>\u001b[0m in \u001b[0;36m__register\u001b[0;34m(self)\u001b[0m\n\u001b[1;32m     70\u001b[0m       \u001b[0mprint\u001b[0m\u001b[0;34m(\u001b[0m\u001b[0mself\u001b[0m\u001b[0;34m.\u001b[0m\u001b[0m__disti\u001b[0m\u001b[0;34m)\u001b[0m\u001b[0;34m\u001b[0m\u001b[0;34m\u001b[0m\u001b[0m\n\u001b[1;32m     71\u001b[0m \u001b[0;34m\u001b[0m\u001b[0m\n\u001b[0;32m---> 72\u001b[0;31m       \u001b[0mself\u001b[0m\u001b[0;34m.\u001b[0m\u001b[0m__menu\u001b[0m\u001b[0;34m(\u001b[0m\u001b[0;34m)\u001b[0m\u001b[0;34m\u001b[0m\u001b[0;34m\u001b[0m\u001b[0m\n\u001b[0m\u001b[1;32m     73\u001b[0m \u001b[0;34m\u001b[0m\u001b[0m\n\u001b[1;32m     74\u001b[0m \u001b[0;34m\u001b[0m\u001b[0m\n",
            "\u001b[0;32m<ipython-input-6-9cbdabb44ecb>\u001b[0m in \u001b[0;36m__menu\u001b[0;34m(self)\u001b[0m\n\u001b[1;32m     31\u001b[0m       \u001b[0memail\u001b[0m\u001b[0;34m=\u001b[0m\u001b[0minput\u001b[0m\u001b[0;34m(\u001b[0m\u001b[0;34m'Please enter your email again:'\u001b[0m\u001b[0;34m)\u001b[0m\u001b[0;34m\u001b[0m\u001b[0;34m\u001b[0m\u001b[0m\n\u001b[1;32m     32\u001b[0m       \u001b[0;32mif\u001b[0m \u001b[0memail\u001b[0m \u001b[0;32min\u001b[0m \u001b[0mself\u001b[0m\u001b[0;34m.\u001b[0m\u001b[0m__disti\u001b[0m\u001b[0;34m:\u001b[0m\u001b[0;34m\u001b[0m\u001b[0;34m\u001b[0m\u001b[0m\n\u001b[0;32m---> 33\u001b[0;31m         \u001b[0mself\u001b[0m\u001b[0;34m.\u001b[0m\u001b[0m__sentiment_analysis\u001b[0m\u001b[0;34m(\u001b[0m\u001b[0;34m)\u001b[0m\u001b[0;34m\u001b[0m\u001b[0;34m\u001b[0m\u001b[0m\n\u001b[0m\u001b[1;32m     34\u001b[0m \u001b[0;34m\u001b[0m\u001b[0m\n\u001b[1;32m     35\u001b[0m \u001b[0;34m\u001b[0m\u001b[0m\n",
            "\u001b[0;32m<ipython-input-6-9cbdabb44ecb>\u001b[0m in \u001b[0;36m__sentiment_analysis\u001b[0;34m(self)\u001b[0m\n\u001b[1;32m     97\u001b[0m \u001b[0;34m\u001b[0m\u001b[0m\n\u001b[1;32m     98\u001b[0m     \u001b[0mprint\u001b[0m\u001b[0;34m(\u001b[0m\u001b[0;34m'The Sentiment with highest score is:'\u001b[0m\u001b[0;34m,\u001b[0m\u001b[0;34m'>*-<'\u001b[0m\u001b[0;34m,\u001b[0m\u001b[0mresponse\u001b[0m\u001b[0;34m[\u001b[0m\u001b[0;34m'scored_labels'\u001b[0m\u001b[0;34m]\u001b[0m\u001b[0;34m[\u001b[0m\u001b[0mindi\u001b[0m\u001b[0;34m]\u001b[0m\u001b[0;34m[\u001b[0m\u001b[0;34m'label'\u001b[0m\u001b[0;34m]\u001b[0m\u001b[0;34m,\u001b[0m\u001b[0;34m'<*->'\u001b[0m\u001b[0;34m,\u001b[0m\u001b[0;34m'With score of:'\u001b[0m\u001b[0;34m,\u001b[0m\u001b[0mround\u001b[0m\u001b[0;34m(\u001b[0m\u001b[0mresponse\u001b[0m\u001b[0;34m[\u001b[0m\u001b[0;34m'scored_labels'\u001b[0m\u001b[0;34m]\u001b[0m\u001b[0;34m[\u001b[0m\u001b[0mindi\u001b[0m\u001b[0;34m]\u001b[0m\u001b[0;34m[\u001b[0m\u001b[0;34m'score'\u001b[0m\u001b[0;34m]\u001b[0m\u001b[0;34m,\u001b[0m\u001b[0;36m4\u001b[0m\u001b[0;34m)\u001b[0m\u001b[0;34m)\u001b[0m\u001b[0;34m\u001b[0m\u001b[0;34m\u001b[0m\u001b[0m\n\u001b[0;32m---> 99\u001b[0;31m     \u001b[0mself\u001b[0m\u001b[0;34m.\u001b[0m\u001b[0m__second_menu\u001b[0m\u001b[0;34m(\u001b[0m\u001b[0;34m)\u001b[0m\u001b[0;34m\u001b[0m\u001b[0;34m\u001b[0m\u001b[0m\n\u001b[0m\u001b[1;32m    100\u001b[0m \u001b[0;34m\u001b[0m\u001b[0m\n\u001b[1;32m    101\u001b[0m \u001b[0;34m\u001b[0m\u001b[0m\n",
            "\u001b[0;32m<ipython-input-6-9cbdabb44ecb>\u001b[0m in \u001b[0;36m__second_menu\u001b[0;34m(self)\u001b[0m\n\u001b[1;32m     44\u001b[0m \u001b[0;34m\u001b[0m\u001b[0m\n\u001b[1;32m     45\u001b[0m   \u001b[0;32mdef\u001b[0m \u001b[0m__second_menu\u001b[0m\u001b[0;34m(\u001b[0m\u001b[0mself\u001b[0m\u001b[0;34m)\u001b[0m\u001b[0;34m:\u001b[0m\u001b[0;34m\u001b[0m\u001b[0;34m\u001b[0m\u001b[0m\n\u001b[0;32m---> 46\u001b[0;31m     second_input=input(\"\"\"\n\u001b[0m\u001b[1;32m     47\u001b[0m     \u001b[0mHey\u001b[0m \u001b[0mWelcome\u001b[0m \u001b[0mback\u001b[0m\u001b[0;34m:\u001b[0m\u001b[0;34m\u001b[0m\u001b[0;34m\u001b[0m\u001b[0m\n\u001b[1;32m     48\u001b[0m     \u001b[0mPlease\u001b[0m \u001b[0mselect\u001b[0m \u001b[0;32mfrom\u001b[0m \u001b[0mbelow\u001b[0m \u001b[0mservices\u001b[0m\u001b[0;34m-\u001b[0m\u001b[0;34m->\u001b[0m\u001b[0;34m\u001b[0m\u001b[0;34m\u001b[0m\u001b[0m\n",
            "\u001b[0;32m/usr/local/lib/python3.8/dist-packages/ipykernel/kernelbase.py\u001b[0m in \u001b[0;36mraw_input\u001b[0;34m(self, prompt)\u001b[0m\n\u001b[1;32m    858\u001b[0m                 \u001b[0;34m\"raw_input was called, but this frontend does not support input requests.\"\u001b[0m\u001b[0;34m\u001b[0m\u001b[0;34m\u001b[0m\u001b[0m\n\u001b[1;32m    859\u001b[0m             )\n\u001b[0;32m--> 860\u001b[0;31m         return self._input_request(str(prompt),\n\u001b[0m\u001b[1;32m    861\u001b[0m             \u001b[0mself\u001b[0m\u001b[0;34m.\u001b[0m\u001b[0m_parent_ident\u001b[0m\u001b[0;34m,\u001b[0m\u001b[0;34m\u001b[0m\u001b[0;34m\u001b[0m\u001b[0m\n\u001b[1;32m    862\u001b[0m             \u001b[0mself\u001b[0m\u001b[0;34m.\u001b[0m\u001b[0m_parent_header\u001b[0m\u001b[0;34m,\u001b[0m\u001b[0;34m\u001b[0m\u001b[0;34m\u001b[0m\u001b[0m\n",
            "\u001b[0;32m/usr/local/lib/python3.8/dist-packages/ipykernel/kernelbase.py\u001b[0m in \u001b[0;36m_input_request\u001b[0;34m(self, prompt, ident, parent, password)\u001b[0m\n\u001b[1;32m    902\u001b[0m             \u001b[0;32mexcept\u001b[0m \u001b[0mKeyboardInterrupt\u001b[0m\u001b[0;34m:\u001b[0m\u001b[0;34m\u001b[0m\u001b[0;34m\u001b[0m\u001b[0m\n\u001b[1;32m    903\u001b[0m                 \u001b[0;31m# re-raise KeyboardInterrupt, to truncate traceback\u001b[0m\u001b[0;34m\u001b[0m\u001b[0;34m\u001b[0m\u001b[0;34m\u001b[0m\u001b[0m\n\u001b[0;32m--> 904\u001b[0;31m                 \u001b[0;32mraise\u001b[0m \u001b[0mKeyboardInterrupt\u001b[0m\u001b[0;34m(\u001b[0m\u001b[0;34m\"Interrupted by user\"\u001b[0m\u001b[0;34m)\u001b[0m \u001b[0;32mfrom\u001b[0m \u001b[0;32mNone\u001b[0m\u001b[0;34m\u001b[0m\u001b[0;34m\u001b[0m\u001b[0m\n\u001b[0m\u001b[1;32m    905\u001b[0m             \u001b[0;32mexcept\u001b[0m \u001b[0mException\u001b[0m \u001b[0;32mas\u001b[0m \u001b[0me\u001b[0m\u001b[0;34m:\u001b[0m\u001b[0;34m\u001b[0m\u001b[0;34m\u001b[0m\u001b[0m\n\u001b[1;32m    906\u001b[0m                 \u001b[0mself\u001b[0m\u001b[0;34m.\u001b[0m\u001b[0mlog\u001b[0m\u001b[0;34m.\u001b[0m\u001b[0mwarning\u001b[0m\u001b[0;34m(\u001b[0m\u001b[0;34m\"Invalid Message:\"\u001b[0m\u001b[0;34m,\u001b[0m \u001b[0mexc_info\u001b[0m\u001b[0;34m=\u001b[0m\u001b[0;32mTrue\u001b[0m\u001b[0;34m)\u001b[0m\u001b[0;34m\u001b[0m\u001b[0;34m\u001b[0m\u001b[0m\n",
            "\u001b[0;31mKeyboardInterrupt\u001b[0m: Interrupted by user"
          ]
        }
      ]
    }
  ]
}